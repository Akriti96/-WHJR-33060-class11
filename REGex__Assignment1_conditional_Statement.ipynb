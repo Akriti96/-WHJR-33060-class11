{
  "nbformat": 4,
  "nbformat_minor": 0,
  "metadata": {
    "colab": {
      "name": " REGex _Assignment1 #conditional_Statement",
      "provenance": [],
      "authorship_tag": "ABX9TyPAVeUMWoTH+Ama/hKLFU3W",
      "include_colab_link": true
    },
    "kernelspec": {
      "name": "python3",
      "display_name": "Python 3"
    },
    "language_info": {
      "name": "python"
    }
  },
  "cells": [
    {
      "cell_type": "markdown",
      "metadata": {
        "id": "view-in-github",
        "colab_type": "text"
      },
      "source": [
        "<a href=\"https://colab.research.google.com/github/Akriti96/-WHJR-33060-class11/blob/main/REGex__Assignment1_conditional_Statement.ipynb\" target=\"_parent\"><img src=\"https://colab.research.google.com/assets/colab-badge.svg\" alt=\"Open In Colab\"/></a>"
      ]
    },
    {
      "cell_type": "markdown",
      "source": [
        "Write a program on the same:\n",
        "- Take any number from the user and verify whether the number is prime numbers\n",
        "- Take any a number from the user & verify whether they are divisible by 3\n",
        "        ( 171 ==> 1+7+1 ==> 9)\n",
        "        ( 9%3==0 , divisible by 3)"
      ],
      "metadata": {
        "id": "G_K2oYBt_5En"
      }
    },
    {
      "cell_type": "code",
      "source": [
        "#  check the given number is prime number \n",
        "# number that is divisible only by itself and 1 (e.g. 2, 3, 5, 7, 11).\n",
        "\n",
        "number = int(input(\"Enter any number: \"))\n",
        "\n",
        "# prime number is always greater than 1\n",
        "if number > 1:\n",
        "    for i in range(2, number):\n",
        "        if (number % i) == 0:\n",
        "            print(number, \"is not a prime number\")\n",
        "            break\n",
        "    else:\n",
        "        print(number, \"is a prime number\")\n",
        "\n",
        "# if the entered number is less than or equal to 1\n",
        "# then it is not prime number\n",
        "else:\n",
        "    print(number, \"is not a prime number\")"
      ],
      "metadata": {
        "colab": {
          "base_uri": "https://localhost:8080/"
        },
        "id": "U6qnB19H_7of",
        "outputId": "30bbc22f-0466-4f19-c199-ca0ebcfb5a1f"
      },
      "execution_count": null,
      "outputs": [
        {
          "output_type": "stream",
          "name": "stdout",
          "text": [
            "Enter any number: 12\n",
            "12 is not a prime number\n"
          ]
        }
      ]
    },
    {
      "cell_type": "code",
      "source": [
        "# Take any a number from the user & verify whether they are divisible by 3\n",
        "\n",
        "number = int(input(\"Enter any number: \"))\n",
        "if number%3 == 0:\n",
        "  print(number,\"is divisible by 3\")\n",
        "else:\n",
        "  print(number,\"is not divisible by 3\")"
      ],
      "metadata": {
        "colab": {
          "base_uri": "https://localhost:8080/"
        },
        "id": "JgAetfreCCLw",
        "outputId": "e347900a-3a47-4b7b-b1f8-a53d370663e0"
      },
      "execution_count": null,
      "outputs": [
        {
          "output_type": "stream",
          "name": "stdout",
          "text": [
            "Enter any number: 14\n",
            "14 is not divisible by 3\n"
          ]
        }
      ]
    }
  ]
}